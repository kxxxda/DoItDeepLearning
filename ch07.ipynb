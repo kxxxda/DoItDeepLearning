{
 "cells": [
  {
   "cell_type": "markdown",
   "source": [
    "## 07-1 다중 분류 신경망을 만듭니다"
   ],
   "metadata": {}
  },
  {
   "cell_type": "code",
   "execution_count": 101,
   "source": [
    "import numpy as np"
   ],
   "outputs": [],
   "metadata": {}
  },
  {
   "cell_type": "code",
   "execution_count": 102,
   "source": [
    "class MultiClassNetwork:\r\n",
    "    \r\n",
    "    def __init__(self, units=10, batch_size=32, learning_rate=0.1, l1=0, l2=0):\r\n",
    "        self.units = units         # 은닉층의 뉴런 개수\r\n",
    "        self.batch_size = batch_size     # 배치 크기\r\n",
    "        self.w1 = None             # 은닉층의 가중치\r\n",
    "        self.b1 = None             # 은닉층의 절편\r\n",
    "        self.w2 = None             # 출력층의 가중치\r\n",
    "        self.b2 = None             # 출력층의 절편\r\n",
    "        self.a1 = None             # 은닉층의 활성화 출력\r\n",
    "        self.losses = []           # 훈련 손실\r\n",
    "        self.val_losses = []       # 검증 손실\r\n",
    "        self.lr = learning_rate    # 학습률\r\n",
    "        self.l1 = l1               # L1 손실 하이퍼파라미터\r\n",
    "        self.l2 = l2               # L2 손실 하이퍼파라미터\r\n",
    "\r\n",
    "    def forpass(self, x):\r\n",
    "        z1 = np.dot(x, self.w1) + self.b1        # 첫 번째 층의 선형 식을 계산합니다\r\n",
    "        self.a1 = self.sigmoid(z1)               # 활성화 함수를 적용합니다\r\n",
    "        z2 = np.dot(self.a1, self.w2) + self.b2  # 두 번째 층의 선형 식을 계산합니다.\r\n",
    "        return z2\r\n",
    "\r\n",
    "    def backprop(self, x, err):\r\n",
    "        m = len(x)       # 샘플 개수\r\n",
    "        # 출력층의 가중치와 절편에 대한 그래디언트를 계산합니다.\r\n",
    "        w2_grad = np.dot(self.a1.T, err) / m\r\n",
    "        b2_grad = np.sum(err) / m\r\n",
    "        # 시그모이드 함수까지 그래디언트를 계산합니다.\r\n",
    "        err_to_hidden = np.dot(err, self.w2.T) * self.a1 * (1 - self.a1)\r\n",
    "        # 은닉층의 가중치와 절편에 대한 그래디언트를 계산합니다.\r\n",
    "        w1_grad = np.dot(x.T, err_to_hidden) / m\r\n",
    "        b1_grad = np.sum(err_to_hidden, axis=0) / m\r\n",
    "        return w1_grad, b1_grad, w2_grad, b2_grad\r\n",
    "    \r\n",
    "    def sigmoid(self, z):\r\n",
    "        z = np.clip(z, -100, None)            # 안전한 np.exp() 계산을 위해\r\n",
    "        a = 1 / (1 + np.exp(-z))              # 시그모이드 계산\r\n",
    "        return a\r\n",
    "    \r\n",
    "    def softmax(self, z):\r\n",
    "        # 소프트맥스 함수\r\n",
    "        z = np.clip(z, -100, None)            # 안전한 np.exp() 계산을 위해\r\n",
    "        exp_z = np.exp(z)\r\n",
    "        return exp_z / np.sum(exp_z, axis=1).reshape(-1, 1)\r\n",
    "\r\n",
    "    def init_weights(self, n_features, n_classes):\r\n",
    "        self.w1 = np.random.normal(0, 1, (n_features, self.units))  # (특성 개수, 은닉층의 크기)\r\n",
    "        self.b1 = np.zeros(self.units)                        # 은닉층의 크기\r\n",
    "        self.w2 = np.random.normal(0, 1, (self.units, n_classes))   # (은닉층의 크기, 클래스 개수)\r\n",
    "        self.b2 = np.zeros(n_classes)\r\n",
    "        \r\n",
    "    def fit(self, x, y, epochs=100, x_val=None, y_val=None):\r\n",
    "        np.random.seed(42)\r\n",
    "        self.init_weights(x.shape[1], y.shape[1])    # 은닉층과 출력층의 가중치를 초기화합니다.\r\n",
    "        # epochs만큼 반복합니다.\r\n",
    "        for i in range(epochs):\r\n",
    "            loss = 0\r\n",
    "            print('.', end='')\r\n",
    "            # 제너레이터 함수에서 반환한 미니배치를 순환합니다.\r\n",
    "            for x_batch, y_batch in self.gen_batch(x, y):\r\n",
    "                a = self.training(x_batch, y_batch)\r\n",
    "                # 안전한 로그 계산을 위해 클리핑합니다.\r\n",
    "                a = np.clip(a, 1e-10, 1-1e-10)\r\n",
    "                # 로그 손실과 규제 손실을 더하여 리스트에 추가합니다.\r\n",
    "                loss += np.sum(-y_batch*np.log(a))\r\n",
    "            self.losses.append((loss + self.reg_loss()) / len(x))\r\n",
    "            # 검증 세트에 대한 손실을 계산합니다.\r\n",
    "            self.update_val_loss(x_val, y_val)\r\n",
    "\r\n",
    "    # 미니배치 제너레이터 함수\r\n",
    "    def gen_batch(self, x, y):\r\n",
    "        length = len(x)\r\n",
    "        bins = length // self.batch_size # 미니배치 횟수\r\n",
    "        if length % self.batch_size:\r\n",
    "            bins += 1                    # 나누어 떨어지지 않을 때\r\n",
    "        indexes = np.random.permutation(np.arange(len(x))) # 인덱스를 섞습니다.\r\n",
    "        x = x[indexes]\r\n",
    "        y = y[indexes]\r\n",
    "        for i in range(bins):\r\n",
    "            start = self.batch_size * i\r\n",
    "            end = self.batch_size * (i + 1)\r\n",
    "            yield x[start:end], y[start:end]   # batch_size만큼 슬라이싱하여 반환합니다.\r\n",
    "            \r\n",
    "    def training(self, x, y):\r\n",
    "        m = len(x)                # 샘플 개수를 저장합니다.\r\n",
    "        z = self.forpass(x)       # 정방향 계산을 수행합니다.\r\n",
    "        a = self.softmax(z)       # 활성화 함수를 적용합니다.\r\n",
    "        err = -(y - a)            # 오차를 계산합니다.\r\n",
    "        # 오차를 역전파하여 그래디언트를 계산합니다.\r\n",
    "        w1_grad, b1_grad, w2_grad, b2_grad = self.backprop(x, err)\r\n",
    "        # 그래디언트에서 페널티 항의 미분 값을 뺍니다\r\n",
    "        w1_grad += (self.l1 * np.sign(self.w1) + self.l2 * self.w1) / m\r\n",
    "        w2_grad += (self.l1 * np.sign(self.w2) + self.l2 * self.w2) / m\r\n",
    "        # 은닉층의 가중치와 절편을 업데이트합니다.\r\n",
    "        self.w1 -= self.lr * w1_grad\r\n",
    "        self.b1 -= self.lr * b1_grad\r\n",
    "        # 출력층의 가중치와 절편을 업데이트합니다.\r\n",
    "        self.w2 -= self.lr * w2_grad\r\n",
    "        self.b2 -= self.lr * b2_grad\r\n",
    "        return a\r\n",
    "\r\n",
    "    def predict(self, x):\r\n",
    "        z = self.forpass(x)          # 정방향 계산을 수행합니다.\r\n",
    "        return np.argmax(z, axis=1)  # 가장 큰 값의 인덱스를 반환합니다.\r\n",
    "    \r\n",
    "    def score(self, x, y):\r\n",
    "        # 예측과 타깃 열 벡터를 비교하여 True의 비율을 반환합니다.\r\n",
    "        return np.mean(self.predict(x) == np.argmax(y, axis=1))\r\n",
    "\r\n",
    "    def reg_loss(self):\r\n",
    "        # 은닉층과 출력층의 가중치에 규제를 적용합니다.\r\n",
    "        return self.l1 * (np.sum(np.abs(self.w1)) + np.sum(np.abs(self.w2))) + \\\r\n",
    "               self.l2 / 2 * (np.sum(self.w1**2) + np.sum(self.w2**2))\r\n",
    "\r\n",
    "    def update_val_loss(self, x_val, y_val):\r\n",
    "        z = self.forpass(x_val)            # 정방향 계산을 수행합니다.\r\n",
    "        a = self.softmax(z)                # 활성화 함수를 적용합니다.\r\n",
    "        a = np.clip(a, 1e-10, 1-1e-10)     # 출력 값을 클리핑합니다.\r\n",
    "        # 크로스 엔트로피 손실과 규제 손실을 더하여 리스트에 추가합니다.\r\n",
    "        val_loss = np.sum(-y_val*np.log(a))\r\n",
    "        self.val_losses.append((val_loss + self.reg_loss()) / len(y_val))"
   ],
   "outputs": [],
   "metadata": {}
  },
  {
   "cell_type": "markdown",
   "source": [
    "#### 의류 이미지를 분류해 보자"
   ],
   "metadata": {}
  },
  {
   "cell_type": "code",
   "execution_count": 103,
   "source": [
    "import tensorflow as tf"
   ],
   "outputs": [],
   "metadata": {}
  },
  {
   "cell_type": "code",
   "execution_count": 104,
   "source": [
    "tf.__version__\r\n",
    "\r\n",
    "# 버전 확인하기"
   ],
   "outputs": [
    {
     "output_type": "execute_result",
     "data": {
      "text/plain": [
       "'2.6.0'"
      ]
     },
     "metadata": {},
     "execution_count": 104
    }
   ],
   "metadata": {}
  },
  {
   "cell_type": "code",
   "execution_count": 105,
   "source": [
    "(x_train_all, y_train_all), (x_test, y_test) = tf.keras.datasets.fashion_mnist.load_data()"
   ],
   "outputs": [],
   "metadata": {}
  },
  {
   "cell_type": "code",
   "execution_count": 106,
   "source": [
    "# 훈련 세트의 크기 확인하기\r\n",
    "print(x_train_all.shape, y_train_all.shape)"
   ],
   "outputs": [
    {
     "output_type": "stream",
     "name": "stdout",
     "text": [
      "(60000, 28, 28) (60000,)\n"
     ]
    }
   ],
   "metadata": {}
  },
  {
   "cell_type": "code",
   "execution_count": 107,
   "source": [
    "import matplotlib.pyplot as plt"
   ],
   "outputs": [],
   "metadata": {}
  },
  {
   "cell_type": "code",
   "execution_count": 108,
   "source": [
    "# 샘플 이미지 확인하기\r\n",
    "plt.imshow(x_train_all[0], cmap = \"gray\")\r\n",
    "plt.show()"
   ],
   "outputs": [
    {
     "output_type": "display_data",
     "data": {
      "image/png": "[encoded data removed]",
      "text/plain": [
       "<Figure size 432x288 with 1 Axes>"
      ]
     },
     "metadata": {
      "needs_background": "light"
     }
    }
   ],
   "metadata": {}
  },
  {
   "cell_type": "code",
   "execution_count": 109,
   "source": [
    "# 타깃의 내용과 의미 확인하기\r\n",
    "\r\n",
    "print(y_train_all[:10])\r\n",
    "\r\n",
    "# y_train_all 의 크기는 60000개의 요소를 가진 1차원 배열이다.\r\n",
    "# 이 배열에는 0~9까지의 정수로 이루어진 클래스 레이블이 들어있다."
   ],
   "outputs": [
    {
     "output_type": "stream",
     "name": "stdout",
     "text": [
      "[9 0 0 3 0 2 7 2 5 5]\n"
     ]
    }
   ],
   "metadata": {}
  },
  {
   "cell_type": "code",
   "execution_count": 110,
   "source": [
    "class_names = ['티셔츠/윗도리', '바지', '스웨터', '드레스', '코트', '샌들', '셔츠', '스니커즈', '가방', '앵클부츠']"
   ],
   "outputs": [],
   "metadata": {}
  },
  {
   "cell_type": "code",
   "execution_count": 111,
   "source": [
    "# 각 레이블(0~9)의 의미를 알아보자\r\n",
    "\r\n",
    "print(class_names[y_train_all[0]])"
   ],
   "outputs": [
    {
     "output_type": "stream",
     "name": "stdout",
     "text": [
      "앵클부츠\n"
     ]
    }
   ],
   "metadata": {}
  },
  {
   "cell_type": "code",
   "execution_count": 112,
   "source": [
    "# 흔련 데이터 세트를 훈련 세트와 검증 세트로 나누기 전에 훈련 세트의 타깃값들이 고르게 분포되어 있는지 알아보자\r\n",
    "\r\n",
    "np.bincount(y_train_all)\r\n",
    "\r\n",
    "# 각 레이블당 6000개의 데이터가 들어있다."
   ],
   "outputs": [
    {
     "output_type": "execute_result",
     "data": {
      "text/plain": [
       "array([6000, 6000, 6000, 6000, 6000, 6000, 6000, 6000, 6000, 6000],\n",
       "      dtype=int64)"
      ]
     },
     "metadata": {},
     "execution_count": 112
    }
   ],
   "metadata": {}
  },
  {
   "cell_type": "code",
   "execution_count": 113,
   "source": [
    "from sklearn.model_selection import train_test_split"
   ],
   "outputs": [],
   "metadata": {}
  },
  {
   "cell_type": "code",
   "execution_count": 114,
   "source": [
    "# 훈련세트와 검증세트로 나누기\r\n",
    "\r\n",
    "x_train, x_val, y_train, y_val = train_test_split(x_train_all, y_train_all, stratify = y_train_all, test_size = 0.2, random_state = 42)"
   ],
   "outputs": [],
   "metadata": {}
  },
  {
   "cell_type": "code",
   "execution_count": 115,
   "source": [
    "# 잘 나눠졌는지 확인\r\n",
    "\r\n",
    "np.bincount(y_train)"
   ],
   "outputs": [
    {
     "output_type": "execute_result",
     "data": {
      "text/plain": [
       "array([4800, 4800, 4800, 4800, 4800, 4800, 4800, 4800, 4800, 4800],\n",
       "      dtype=int64)"
      ]
     },
     "metadata": {},
     "execution_count": 115
    }
   ],
   "metadata": {}
  },
  {
   "cell_type": "code",
   "execution_count": 116,
   "source": [
    "np.bincount(y_val)\r\n",
    "\r\n",
    "# 데이터 세트를 나눈 뒤, 클래스의 균형이 맞는지 확인하는 것이 좋다."
   ],
   "outputs": [
    {
     "output_type": "execute_result",
     "data": {
      "text/plain": [
       "array([1200, 1200, 1200, 1200, 1200, 1200, 1200, 1200, 1200, 1200],\n",
       "      dtype=int64)"
      ]
     },
     "metadata": {},
     "execution_count": 116
    }
   ],
   "metadata": {}
  },
  {
   "cell_type": "code",
   "execution_count": 117,
   "source": [
    "# 이전에는 평균 0, 분산이 1이 되도록 정규화를 해줬는데 이미지 데이터이기 때문에\r\n",
    "# 이미지 데이터는 픽셀마다 0~255 사이의값을 가지기 때문에 이 값을 255로 나눠서 0~1 값이 되도록 맞춰준다.\r\n",
    "\r\n",
    "x_train = x_train / 255\r\n",
    "x_val = x_val / 255"
   ],
   "outputs": [],
   "metadata": {}
  },
  {
   "cell_type": "code",
   "execution_count": 118,
   "source": [
    "# MultiClassNetwork는 1차원 배열의 샘플을 기대하기 때문에\r\n",
    "# 훈련 세트와 검증 세트의 차원을 바꿔준다.\r\n",
    "\r\n",
    "x_train = x_train.reshape(-1, 784)\r\n",
    "x_val = x_val.reshape(-1, 784)"
   ],
   "outputs": [],
   "metadata": {}
  },
  {
   "cell_type": "code",
   "execution_count": 119,
   "source": [
    "print(x_train.shape, x_val.shape)"
   ],
   "outputs": [
    {
     "output_type": "stream",
     "name": "stdout",
     "text": [
      "(48000, 784) (12000, 784)\n"
     ]
    }
   ],
   "metadata": {}
  },
  {
   "cell_type": "code",
   "execution_count": 120,
   "source": [
    "from sklearn.preprocessing import LabelBinarizer\r\n",
    "lb = LabelBinarizer()\r\n",
    "lb.fit_transform([0, 1, 3, 1])"
   ],
   "outputs": [
    {
     "output_type": "execute_result",
     "data": {
      "text/plain": [
       "array([[1, 0, 0],\n",
       "       [0, 1, 0],\n",
       "       [0, 0, 1],\n",
       "       [0, 1, 0]])"
      ]
     },
     "metadata": {},
     "execution_count": 120
    }
   ],
   "metadata": {}
  },
  {
   "cell_type": "code",
   "execution_count": 121,
   "source": [
    "tf.keras.utils.to_categorical([0, 1, 3])"
   ],
   "outputs": [
    {
     "output_type": "execute_result",
     "data": {
      "text/plain": [
       "array([[1., 0., 0., 0.],\n",
       "       [0., 1., 0., 0.],\n",
       "       [0., 0., 0., 1.]], dtype=float32)"
      ]
     },
     "metadata": {},
     "execution_count": 121
    }
   ],
   "metadata": {}
  },
  {
   "cell_type": "code",
   "execution_count": 122,
   "source": [
    "y_train_encoded = tf.keras.utils.to_categorical(y_train)\r\n",
    "y_val_encoded = tf.keras.utils.to_categorical(y_val)"
   ],
   "outputs": [],
   "metadata": {}
  },
  {
   "cell_type": "code",
   "execution_count": 123,
   "source": [
    "print(y_train_encoded.shape, y_val_encoded.shape)"
   ],
   "outputs": [
    {
     "output_type": "stream",
     "name": "stdout",
     "text": [
      "(48000, 10) (12000, 10)\n"
     ]
    }
   ],
   "metadata": {}
  },
  {
   "cell_type": "code",
   "execution_count": 124,
   "source": [
    "print(y_train[0], y_train_encoded[0])"
   ],
   "outputs": [
    {
     "output_type": "stream",
     "name": "stdout",
     "text": [
      "6 [0. 0. 0. 0. 0. 0. 1. 0. 0. 0.]\n"
     ]
    }
   ],
   "metadata": {}
  },
  {
   "cell_type": "code",
   "execution_count": 125,
   "source": [
    "# MultiClassNetwork 클래스로 다중 분류 신경망 훈련하기\r\n",
    "\r\n",
    "fc = MultiClassNetwork(units = 100, batch_size = 256)\r\n",
    "fc.fit(x_train, y_train_encoded, x_val = x_val, y_val = y_val_encoded, epochs = 40)"
   ],
   "outputs": [
    {
     "output_type": "stream",
     "name": "stdout",
     "text": [
      "........................................"
     ]
    }
   ],
   "metadata": {}
  },
  {
   "cell_type": "code",
   "execution_count": 126,
   "source": [
    "# 훈련 손실, 검증 손실 그래프와 훈련 모델 점수 확인하기\r\n",
    "\r\n",
    "plt.plot(fc.losses)\r\n",
    "plt.plot(fc.val_losses)\r\n",
    "plt.ylabel('loss')\r\n",
    "plt.xlabel('iteration')\r\n",
    "plt.legend(['train_loss', 'val_loss'])\r\n",
    "plt.show()"
   ],
   "outputs": [
    {
     "output_type": "display_data",
     "data": {
      "image/png": "[encoded data removed]",
      "text/plain": [
       "<Figure size 432x288 with 1 Axes>"
      ]
     },
     "metadata": {
      "needs_background": "light"
     }
    }
   ],
   "metadata": {}
  },
  {
   "cell_type": "code",
   "execution_count": 127,
   "source": [
    "# 점수 확인하기\r\n",
    "\r\n",
    "fc.score(x_val, y_val_encoded)"
   ],
   "outputs": [
    {
     "output_type": "execute_result",
     "data": {
      "text/plain": [
       "0.8150833333333334"
      ]
     },
     "metadata": {},
     "execution_count": 127
    }
   ],
   "metadata": {}
  },
  {
   "cell_type": "code",
   "execution_count": 129,
   "source": [
    "np.random.permutation(np.arange(120000)%10)"
   ],
   "outputs": [
    {
     "output_type": "execute_result",
     "data": {
      "text/plain": [
       "array([6, 2, 7, ..., 7, 6, 1], dtype=int32)"
      ]
     },
     "metadata": {},
     "execution_count": 129
    }
   ],
   "metadata": {}
  },
  {
   "cell_type": "code",
   "execution_count": 131,
   "source": [
    "np.sum(y_val == np.random.permutation(np.arange(12000)%10)) / 12000"
   ],
   "outputs": [
    {
     "output_type": "execute_result",
     "data": {
      "text/plain": [
       "0.10083333333333333"
      ]
     },
     "metadata": {},
     "execution_count": 131
    }
   ],
   "metadata": {}
  },
  {
   "cell_type": "markdown",
   "source": [
    "## 텐서플로와 케라스를 소개합니다."
   ],
   "metadata": {}
  }
 ],
 "metadata": {
  "orig_nbformat": 4,
  "language_info": {
   "name": "python",
   "version": "3.9.6",
   "mimetype": "text/x-python",
   "codemirror_mode": {
    "name": "ipython",
    "version": 3
   },
   "pygments_lexer": "ipython3",
   "nbconvert_exporter": "python",
   "file_extension": ".py"
  },
  "kernelspec": {
   "name": "python3",
   "display_name": "Python 3.9.6 64-bit"
  },
  "interpreter": {
   "hash": "0611604c638db2c10c53cd7ac769fdce0e5d7f70f7d9206f4956bee3c7157847"
  }
 },
 "nbformat": 4,
 "nbformat_minor": 2
}