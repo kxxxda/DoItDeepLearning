{
 "cells": [
  {
   "cell_type": "markdown",
   "source": [
    "## 06-1 신경망 알고리즘을 벡터화하자"
   ],
   "metadata": {}
  },
  {
   "cell_type": "code",
   "execution_count": 1,
   "source": [
    "import numpy as np\r\n",
    "import matplotlib.pyplot as plt"
   ],
   "outputs": [],
   "metadata": {}
  },
  {
   "cell_type": "code",
   "execution_count": 2,
   "source": [
    "from sklearn.datasets import load_breast_cancer\r\n",
    "from sklearn.model_selection import train_test_split"
   ],
   "outputs": [],
   "metadata": {}
  },
  {
   "cell_type": "code",
   "execution_count": 3,
   "source": [
    "# 데이터 세트를 훈련, 검증, 테스트 세트로 나누기\r\n",
    "\r\n",
    "cancer = load_breast_cancer()\r\n",
    "x = cancer.data\r\n",
    "y = cancer.target\r\n",
    "x_train_all, x_test, y_train_all, y_test = train_test_split(x, y, stratify = y, test_size = 0.2, random_state = 42)\r\n",
    "x_train, x_val, y_train, y_val = train_test_split(x_train_all, y_train_all, stratify = y_train_all, test_size = 0.2, random_state = 42)"
   ],
   "outputs": [],
   "metadata": {}
  },
  {
   "cell_type": "code",
   "execution_count": 4,
   "source": [
    "# 시작하기 전에 사용할 데이터의 크기를 확인하는 것은 좋은 습관이다 !\r\n",
    "\r\n",
    "print(x_train.shape, x_val.shape)"
   ],
   "outputs": [
    {
     "output_type": "stream",
     "name": "stdout",
     "text": [
      "(364, 30) (91, 30)\n"
     ]
    }
   ],
   "metadata": {}
  },
  {
   "cell_type": "code",
   "execution_count": 5,
   "source": [
    "class SingleLayer:\r\n",
    "\r\n",
    "    def __init__ (self, learning_rate = 0.1, l1 = 0, l2 = 0):\r\n",
    "        self.w = None  # 가중치\r\n",
    "        self.b = None  # 절편\r\n",
    "        self.losses = []  # 훈련 손실\r\n",
    "        self.val_losses = []  # 검증 손실\r\n",
    "        self.w_history = []  # 가중치 기록\r\n",
    "        self.lr = learning_rate\r\n",
    "        self.l1 = l1\r\n",
    "        self.l2 = l2\r\n",
    "\r\n",
    "    def forpass(self, x):\r\n",
    "        z = np.dot(x, self.w) + self.b\r\n",
    "        return z\r\n",
    "\r\n",
    "    def backprop(self, x, err):\r\n",
    "        m = len(x)\r\n",
    "        w_grad = np.dot(x.T, err) / m  # 가중치에 대한 그래디언트를 계산\r\n",
    "        b_grad = np.sum(err) / m\r\n",
    "        return w_grad, b_grad\r\n",
    "\r\n",
    "    def activation(self, z):\r\n",
    "        z = np.clip(z, -100, None)  # 안전한 np.exp() 계산을 위해\r\n",
    "        a = 1 / (1 + np.exp(-z))  # 시그모이드 계산\r\n",
    "        return a\r\n",
    "\r\n",
    "    def reg_loss(self):\r\n",
    "        # 가중치에 규제를 적용\r\n",
    "        return self.l1 * np.sum(np.abs(self.w)) + self.l2 / 2 * np.sum(self.w ** 2)\r\n",
    "\r\n",
    "    def update_val_loss(self, x_val, y_val):\r\n",
    "        z = self.forpass(x_val)  # 정방향 계산\r\n",
    "        a = self.activation(z)  # 활성화 함수\r\n",
    "        a = np.clip(a, 1e-10, 1-1e-10)  # 출력 값을 클리핑\r\n",
    "        # 로그 손실과 규제 손실을 더해서 리스트에 추가\r\n",
    "        val_loss = np.sum(-(y_val * np.log(a) + (1 - y_val) * np.log(1-a)))\r\n",
    "        self.val_losses.append((val_loss + self.reg_loss()) / len(y_val))\r\n",
    "\r\n",
    "    def score(self, x, y):\r\n",
    "        # 예측과 타깃 열 벡터를 비교해서 True의 비율을 반환\r\n",
    "        return np.mean(self.predict(x) == y.reshape(-1, 1))\r\n",
    "\r\n",
    "    def predict(self, x):\r\n",
    "        z = self.forpass(x)\r\n",
    "        return z > 0\r\n",
    "\r\n",
    "    def fit(self, x, y, epochs = 100, x_val = None, y_val = None):\r\n",
    "        y = y.reshape(-1, 1)  # 타깃을 열 벡터로 바꾼다\r\n",
    "        y_val = y_val.reshape(-1, 1)\r\n",
    "        m = len(x)  # 샘플 개수 저장\r\n",
    "        self.w = np.ones((x.shape[1], 1))  # 가중치를 초기화\r\n",
    "        self.b = 0  # 절편을 초기화\r\n",
    "        self.w_history.append(self.w.copy())  # 가중치를 기록\r\n",
    "        # epochs 만큼 반복\r\n",
    "        for i in range(epochs):\r\n",
    "            z = self.forpass(x)  # 정방향 계산\r\n",
    "            a = self.activation(z)  # 활성화 함수 적용\r\n",
    "            err = -(y - a)\r\n",
    "            # 오차를 역전파하여 그래디언트를 계산\r\n",
    "            w_grad, b_grad = self.backprop(x, err)\r\n",
    "            # 그래디언트에 페널티 항의 미분 값을 더합니다.\r\n",
    "            w_grad += (self.l1 * np.sign(self.w) + self.l2 * self.w) / m\r\n",
    "            # 그래디언트에 페널티 항의 미문 값을 더한다\r\n",
    "            self.w -= self.lr * w_grad\r\n",
    "            self.b -= self.lr * b_grad\r\n",
    "            # 가중치를 기록한다\r\n",
    "            self.w_history.append(self.w.copy())\r\n",
    "            # 안전한 로그 계산을 위해 클리핑하기\r\n",
    "            a = np.clip(a, 1e-10, 1-1e-10)\r\n",
    "            # 로그 손실과 규제 손실을 더하여 리스트에 추가\r\n",
    "            loss = np.sum(-(y*np.log(a) + (1-y)*np.log(1-a)))\r\n",
    "            self.losses.append((loss + self.reg_loss()) / m)\r\n",
    "            # 검증 세트에 대한 손실을 계산\r\n",
    "            self.update_val_loss(x_val, y_val)"
   ],
   "outputs": [],
   "metadata": {}
  },
  {
   "cell_type": "code",
   "execution_count": 6,
   "source": [
    "# 안정적인 학습을 위해 사이킷런의 StandardScaler 클래스로 전처리하자\r\n",
    "from sklearn.preprocessing import StandardScaler"
   ],
   "outputs": [],
   "metadata": {}
  },
  {
   "cell_type": "code",
   "execution_count": 7,
   "source": [
    "# **************** 이건 내가 해본 거 그냥\r\n",
    "\r\n",
    "print((x.shape[1], 1))"
   ],
   "outputs": [
    {
     "output_type": "stream",
     "name": "stdout",
     "text": [
      "(30, 1)\n"
     ]
    }
   ],
   "metadata": {}
  },
  {
   "cell_type": "code",
   "execution_count": 8,
   "source": [
    "# 훈련 데이터 표준화 전처리하기\r\n",
    "\r\n",
    "scaler = StandardScaler()  # 객체 선언\r\n",
    "scaler.fit(x_train)  # fit( ) 메서드로 변환 규칙을 익히고\r\n",
    "x_train_scaled = scaler.transform(x_train)  # 훈련 세트에 표준화 적용\r\n",
    "x_val_scaled = scaler.transform(x_val)  # 검증 세트에 표준화 적용"
   ],
   "outputs": [],
   "metadata": {}
  },
  {
   "cell_type": "code",
   "execution_count": 9,
   "source": [
    "# 이 데이터를 SingleLayer 클래스 객체에 전달해서 배치 경사 하강법 적용해 보자\r\n",
    "\r\n",
    "single_layer = SingleLayer(l2 = 0.01)\r\n",
    "single_layer.fit(x_train_scaled, y_train, x_val = x_val_scaled, y_val = y_val, epochs = 10000)\r\n",
    "single_layer.score(x_val_scaled, y_val)\r\n",
    "\r\n",
    "# 에포크 횟수를 늘린 이유는 확률적 경사 하강법과 경사 하강법은 에포크마다 가중치 업데이트를 하는 횟수에 차이가 있기 때문\r\n",
    "# score 메서드로 출력된 검증 세트의 점수는 5장과 동일하지만 손실 함수 값의 변화는 다르다.\r\n",
    "# 훈련 손실과 검증 손실을 그래프로 출력해 보자"
   ],
   "outputs": [
    {
     "output_type": "execute_result",
     "data": {
      "text/plain": [
       "0.978021978021978"
      ]
     },
     "metadata": {},
     "execution_count": 9
    }
   ],
   "metadata": {}
  },
  {
   "cell_type": "code",
   "execution_count": 10,
   "source": [
    "plt.ylim(0, 0.3)\r\n",
    "plt.plot(single_layer.losses)\r\n",
    "plt.plot(single_layer.val_losses)\r\n",
    "plt.ylabel('loss')\r\n",
    "plt.xlabel('epoch')\r\n",
    "plt.legend(['train_loss', 'val_loss'])\r\n",
    "plt.show()\r\n",
    "\r\n",
    "# 5장에서 봤던 그래프에 비해 손실값이 비교적 안정적으로 감소하는 것을 알 수 있다\r\n",
    "# 왜 이런 결과가 나오는지 가중치의 변화 그래프를 살펴보자"
   ],
   "outputs": [
    {
     "output_type": "display_data",
     "data": {
      "image/png": "[encoded data removed]",
      "text/plain": [
       "<Figure size 432x288 with 1 Axes>"
      ]
     },
     "metadata": {
      "needs_background": "light"
     }
    }
   ],
   "metadata": {}
  },
  {
   "cell_type": "code",
   "execution_count": 11,
   "source": [
    "w2 = []\r\n",
    "w3 = []\r\n",
    "for w in single_layer.w_history:\r\n",
    "    w2.append(w[2])\r\n",
    "    w3.append(w[3])\r\n",
    "plt.plot(w2, w3)\r\n",
    "plt.plot(w2[-1], w3[-1], 'ro')\r\n",
    "plt.xlabel('w[2]')\r\n",
    "plt.ylabel('w[3]')\r\n",
    "plt.show()\r\n",
    "\r\n",
    "# 가중치의 변화가 연속적이므로 손실값도 안정적으로 수렴된다.\r\n",
    "# 하지만 배치 경사 하강법은 매번 전체 훈련 데이터를 사용하기 때문에 연산 비용이 많이 들고 최솟값에 수렴하는 시간도 많이 걸린다."
   ],
   "outputs": [
    {
     "output_type": "display_data",
     "data": {
      "image/png": "[encoded data removed]",
      "text/plain": [
       "<Figure size 432x288 with 1 Axes>"
      ]
     },
     "metadata": {
      "needs_background": "light"
     }
    }
   ],
   "metadata": {}
  },
  {
   "cell_type": "markdown",
   "source": [
    "## 06-2 2개의 층을 연결합니다"
   ],
   "metadata": {}
  },
  {
   "cell_type": "code",
   "execution_count": 27,
   "source": [
    "class DualLayer(SingleLayer):\r\n",
    "    \r\n",
    "    def __init__(self, units=10, learning_rate=0.1, l1=0, l2=0):\r\n",
    "        self.units = units         # 은닉층의 뉴런 개수\r\n",
    "        self.w1 = None             # 은닉층의 가중치\r\n",
    "        self.b1 = None             # 은닉층의 절편\r\n",
    "        self.w2 = None             # 출력층의 가중치\r\n",
    "        self.b2 = None             # 출력층의 절편\r\n",
    "        self.a1 = None             # 은닉층의 활성화 출력\r\n",
    "        self.losses = []           # 훈련 손실\r\n",
    "        self.val_losses = []       # 검증 손실\r\n",
    "        self.lr = learning_rate    # 학습률\r\n",
    "        self.l1 = l1               # L1 손실 하이퍼파라미터\r\n",
    "        self.l2 = l2               # L2 손실 하이퍼파라미터\r\n",
    "\r\n",
    "    def forpass(self, x):\r\n",
    "        z1 = np.dot(x, self.w1) + self.b1        # 첫 번째 층의 선형 식을 계산합니다\r\n",
    "        self.a1 = self.activation(z1)            # 활성화 함수를 적용합니다\r\n",
    "        z2 = np.dot(self.a1, self.w2) + self.b2  # 두 번째 층의 선형 식을 계산합니다.\r\n",
    "        return z2\r\n",
    "\r\n",
    "    def backprop(self, x, err):\r\n",
    "        m = len(x)       # 샘플 개수\r\n",
    "        # 출력층의 가중치와 절편에 대한 그래디언트를 계산합니다.\r\n",
    "        w2_grad = np.dot(self.a1.T, err) / m\r\n",
    "        b2_grad = np.sum(err) / m\r\n",
    "        # 시그모이드 함수까지 그래디언트를 계산합니다.\r\n",
    "        err_to_hidden = np.dot(err, self.w2.T) * self.a1 * (1 - self.a1)\r\n",
    "        # 은닉층의 가중치와 절편에 대한 그래디언트를 계산합니다.\r\n",
    "        w1_grad = np.dot(x.T, err_to_hidden) / m\r\n",
    "        b1_grad = np.sum(err_to_hidden, axis=0) / m\r\n",
    "        return w1_grad, b1_grad, w2_grad, b2_grad\r\n",
    "\r\n",
    "    def init_weights(self, n_features):\r\n",
    "        self.w1 = np.ones((n_features, self.units))  # (특성 개수, 은닉층의 크기)\r\n",
    "        self.b1 = np.zeros(self.units)               # 은닉층의 크기\r\n",
    "        self.w2 = np.ones((self.units, 1))           # (은닉층의 크기, 1)\r\n",
    "        self.b2 = 0\r\n",
    "        \r\n",
    "    def fit(self, x, y, epochs=100, x_val=None, y_val=None):\r\n",
    "        y = y.reshape(-1, 1)          # 타깃을 열 벡터로 바꿉니다.\r\n",
    "        y_val = y_val.reshape(-1, 1)\r\n",
    "        m = len(x)                    # 샘플 개수를 저장합니다.\r\n",
    "        self.init_weights(x.shape[1]) # 은닉층과 출력층의 가중치를 초기화합니다.\r\n",
    "        # epochs만큼 반복합니다.\r\n",
    "        for i in range(epochs):\r\n",
    "            a = self.training(x, y, m)\r\n",
    "            # 안전한 로그 계산을 위해 클리핑합니다.\r\n",
    "            a = np.clip(a, 1e-10, 1-1e-10)\r\n",
    "            # 로그 손실과 규제 손실을 더하여 리스트에 추가합니다.\r\n",
    "            loss = np.sum(-(y*np.log(a) + (1-y)*np.log(1-a)))\r\n",
    "            self.losses.append((loss + self.reg_loss()) / m)\r\n",
    "            # 검증 세트에 대한 손실을 계산합니다.\r\n",
    "            self.update_val_loss(x_val, y_val)\r\n",
    "\r\n",
    "    def training(self, x, y, m):\r\n",
    "        z = self.forpass(x)       # 정방향 계산을 수행합니다.\r\n",
    "        a = self.activation(z)    # 활성화 함수를 적용합니다.\r\n",
    "        err = -(y - a)            # 오차를 계산합니다.\r\n",
    "        # 오차를 역전파하여 그래디언트를 계산합니다.\r\n",
    "        w1_grad, b1_grad, w2_grad, b2_grad = self.backprop(x, err)\r\n",
    "        # 그래디언트에 페널티 항의 미분 값을 더합니다\r\n",
    "        w1_grad += (self.l1 * np.sign(self.w1) + self.l2 * self.w1) / m\r\n",
    "        w2_grad += (self.l1 * np.sign(self.w2) + self.l2 * self.w2) / m\r\n",
    "        # 은닉층의 가중치와 절편을 업데이트합니다.\r\n",
    "        self.w1 -= self.lr * w1_grad\r\n",
    "        self.b1 -= self.lr * b1_grad\r\n",
    "        # 출력층의 가중치와 절편을 업데이트합니다.\r\n",
    "        self.w2 -= self.lr * w2_grad\r\n",
    "        self.b2 -= self.lr * b2_grad\r\n",
    "        return a\r\n",
    "    \r\n",
    "    def reg_loss(self):\r\n",
    "        # 은닉층과 출력층의 가중치에 규제를 적용합니다.\r\n",
    "        return self.l1 * (np.sum(np.abs(self.w1)) + np.sum(np.abs(self.w2))) + \\\r\n",
    "               self.l2 / 2 * (np.sum(self.w1**2) + np.sum(self.w2**2))"
   ],
   "outputs": [],
   "metadata": {}
  },
  {
   "cell_type": "code",
   "execution_count": 28,
   "source": [
    "# 모델 훈련하기\r\n",
    "\r\n",
    "dual_layer = DualLayer(l2 = 0.01)\r\n",
    "dual_layer.fit(x_train_scaled, y_train, x_val = x_val_scaled, y_val = y_val, epochs = 20000)\r\n",
    "dual_layer.score(x_val_scaled, y_val)"
   ],
   "outputs": [
    {
     "output_type": "execute_result",
     "data": {
      "text/plain": [
       "0.978021978021978"
      ]
     },
     "metadata": {},
     "execution_count": 28
    }
   ],
   "metadata": {}
  },
  {
   "cell_type": "code",
   "execution_count": 32,
   "source": [
    "# 훈련 손실과 검증 손실 그래프 분석하기\r\n",
    "\r\n",
    "plt.ylim(0, 0.3)\r\n",
    "plt.plot(dual_layer.losses)\r\n",
    "plt.plot(dual_layer.val_losses)\r\n",
    "plt.ylabel('loss')\r\n",
    "plt.xlabel('epoch')\r\n",
    "plt.legend(['train_loss', 'val_loss'])\r\n",
    "plt.show()"
   ],
   "outputs": [
    {
     "output_type": "display_data",
     "data": {
      "image/png": "[encoded data removed]",
      "text/plain": [
       "<Figure size 432x288 with 1 Axes>"
      ]
     },
     "metadata": {
      "needs_background": "light"
     }
    }
   ],
   "metadata": {}
  }
 ],
 "metadata": {
  "orig_nbformat": 4,
  "language_info": {
   "name": "python",
   "version": "3.9.6",
   "mimetype": "text/x-python",
   "codemirror_mode": {
    "name": "ipython",
    "version": 3
   },
   "pygments_lexer": "ipython3",
   "nbconvert_exporter": "python",
   "file_extension": ".py"
  },
  "kernelspec": {
   "name": "python3",
   "display_name": "Python 3.9.6 64-bit"
  },
  "interpreter": {
   "hash": "0611604c638db2c10c53cd7ac769fdce0e5d7f70f7d9206f4956bee3c7157847"
  }
 },
 "nbformat": 4,
 "nbformat_minor": 2
}